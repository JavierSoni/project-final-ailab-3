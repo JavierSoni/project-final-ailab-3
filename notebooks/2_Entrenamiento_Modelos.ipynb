{
 "cells": [
  {
   "cell_type": "code",
   "execution_count": null,
   "id": "e11bc578-1d1d-49e1-96b3-6046926eb8bb",
   "metadata": {},
   "outputs": [],
   "source": []
  },
  {
   "cell_type": "code",
   "execution_count": 41,
   "id": "a92a25a0-e4c9-4a2d-8ea7-fd439d167dd6",
   "metadata": {},
   "outputs": [],
   "source": [
    "# 1. Importar bibliotecas necesarias\n",
    "import pandas as pd\n",
    "from lazypredict.Supervised import LazyRegressor\n",
    "from sklearn.model_selection import train_test_split\n",
    "from sklearn.preprocessing import StandardScaler\n",
    "from sklearn.metrics import accuracy_score\n",
    "import mlflow"
   ]
  },
  {
   "cell_type": "code",
   "execution_count": 11,
   "id": "d848e3fe-90af-4eb3-8a07-2358cb0b6319",
   "metadata": {},
   "outputs": [],
   "source": [
    "# 2. Cargar los datos\n",
    "X = pd.read_csv('../data/X_selected.csv')\n",
    "y = pd.read_csv('../data/y.csv').values.ravel()"
   ]
  },
  {
   "cell_type": "code",
   "execution_count": 13,
   "id": "65aac386-f3d2-4ae7-9b81-89fe88445cf2",
   "metadata": {},
   "outputs": [],
   "source": [
    "# 3. Dividir en conjuntos de entrenamiento y prueba\n",
    "X_train, X_test, y_train, y_test = train_test_split(X, y, test_size=0.2, random_state=42)\n",
    "\n",
    "# 4. Escalar las características\n",
    "scaler = StandardScaler()\n",
    "X_train_scaled = scaler.fit_transform(X_train)\n",
    "X_test_scaled = scaler.transform(X_test)"
   ]
  },
  {
   "cell_type": "code",
   "execution_count": 15,
   "id": "de19a9ac-23bb-4ce5-8827-b93e25fb0c5f",
   "metadata": {},
   "outputs": [
    {
     "data": {
      "application/vnd.jupyter.widget-view+json": {
       "model_id": "dfa19daff639421abcf086f84fc329c1",
       "version_major": 2,
       "version_minor": 0
      },
      "text/plain": [
       "  0%|          | 0/42 [00:00<?, ?it/s]"
      ]
     },
     "metadata": {},
     "output_type": "display_data"
    },
    {
     "name": "stdout",
     "output_type": "stream",
     "text": [
      "[LightGBM] [Info] Auto-choosing row-wise multi-threading, the overhead of testing was 0.000287 seconds.\n",
      "You can set `force_row_wise=true` to remove the overhead.\n",
      "And if memory is not enough, you can set `force_col_wise=true`.\n",
      "[LightGBM] [Info] Total Bins 568\n",
      "[LightGBM] [Info] Number of data points in the train set: 1279, number of used features: 5\n",
      "[LightGBM] [Info] Start training from score 5.623925\n",
      "                               Adjusted R-Squared  R-Squared  RMSE  Time Taken\n",
      "Model                                                                         \n",
      "ExtraTreesRegressor                          0.48       0.48  0.58        0.42\n",
      "RandomForestRegressor                        0.46       0.47  0.59        0.49\n",
      "HistGradientBoostingRegressor                0.40       0.41  0.62        0.96\n",
      "GradientBoostingRegressor                    0.40       0.41  0.62        0.42\n",
      "SVR                                          0.40       0.41  0.62        0.20\n",
      "LGBMRegressor                                0.40       0.40  0.62        0.13\n",
      "KNeighborsRegressor                          0.39       0.40  0.62        0.04\n",
      "MLPRegressor                                 0.39       0.40  0.62        1.68\n",
      "OrthogonalMatchingPursuitCV                  0.38       0.39  0.63        0.04\n",
      "SGDRegressor                                 0.38       0.39  0.63        0.01\n",
      "LassoLarsIC                                  0.38       0.39  0.63        0.04\n",
      "TransformedTargetRegressor                   0.38       0.39  0.63        0.01\n",
      "Lars                                         0.38       0.39  0.63        0.03\n",
      "LinearRegression                             0.38       0.39  0.63        0.03\n",
      "Ridge                                        0.38       0.39  0.63        0.01\n",
      "RidgeCV                                      0.38       0.39  0.63        0.01\n",
      "BayesianRidge                                0.38       0.39  0.63        0.05\n",
      "NuSVR                                        0.38       0.39  0.63        0.34\n",
      "ElasticNetCV                                 0.38       0.39  0.63        0.21\n",
      "LassoCV                                      0.38       0.39  0.63        0.26\n",
      "HuberRegressor                               0.38       0.39  0.63        0.06\n",
      "LassoLarsCV                                  0.38       0.39  0.63        0.05\n",
      "LarsCV                                       0.38       0.39  0.63        0.05\n",
      "PoissonRegressor                             0.37       0.38  0.63        0.03\n",
      "BaggingRegressor                             0.36       0.37  0.64        0.14\n",
      "LinearSVR                                    0.35       0.36  0.65        0.05\n",
      "XGBRegressor                                 0.33       0.34  0.66        0.83\n",
      "AdaBoostRegressor                            0.32       0.33  0.66        0.22\n",
      "RANSACRegressor                              0.30       0.31  0.67        0.03\n",
      "TweedieRegressor                             0.29       0.31  0.67        0.01\n",
      "GammaRegressor                               0.29       0.31  0.67        0.10\n",
      "OrthogonalMatchingPursuit                    0.22       0.24  0.71        0.03\n",
      "LassoLars                                   -0.02      -0.01  0.81        0.03\n",
      "ElasticNet                                  -0.02      -0.01  0.81        0.04\n",
      "DummyRegressor                              -0.02      -0.01  0.81        0.02\n",
      "Lasso                                       -0.02      -0.01  0.81        0.02\n",
      "DecisionTreeRegressor                       -0.05      -0.03  0.82        0.03\n",
      "ExtraTreeRegressor                          -0.07      -0.06  0.83        0.04\n",
      "QuantileRegressor                           -0.17      -0.15  0.87        0.15\n",
      "PassiveAggressiveRegressor                  -0.39      -0.37  0.95        0.02\n",
      "KernelRidge                                -49.47     -48.68  5.70        0.12\n",
      "GaussianProcessRegressor                 -2348.84   -2312.00 38.88        0.30\n"
     ]
    }
   ],
   "source": [
    "# 5. Comparar modelos con LazyPredict\n",
    "reg = LazyRegressor(verbose=0, ignore_warnings=True, custom_metric=None)\n",
    "models, predictions = reg.fit(X_train_scaled, X_test_scaled, y_train, y_test)\n",
    "\n",
    "# 6. Mostrar los resultados\n",
    "print(models)"
   ]
  },
  {
   "cell_type": "code",
   "execution_count": 31,
   "id": "ed9b1b30-c9a7-4b04-bf8b-a1b29b0b5531",
   "metadata": {},
   "outputs": [
    {
     "name": "stdout",
     "output_type": "stream",
     "text": [
      "Mejor modelo según RMSE: ExtraTreesRegressor\n"
     ]
    }
   ],
   "source": [
    "# 7. Identificar el modelo con el menor RMSE\n",
    "best_model = models.index[models['RMSE'].argmin()]\n",
    "print(f\"Mejor modelo según RMSE: {best_model_name}\")"
   ]
  },
  {
   "cell_type": "code",
   "execution_count": 33,
   "id": "aac37956-5095-4288-b0ae-4379376e0753",
   "metadata": {},
   "outputs": [],
   "source": [
    "# Elegimos ExtraTressRegresor\n",
    "from sklearn.ensemble import ExtraTreesRegressor\n",
    "best_model = ExtraTreesRegressor(random_state=42)\n",
    "best_model.fit(X_train_scaled, y_train)\n",
    "y_pred = best_model.predict(X_test_scaled)\n",
    "preds = torch.argmax(outputs, dim=1)"
   ]
  },
  {
   "cell_type": "code",
   "execution_count": 45,
   "id": "28a5a514-46d0-4c50-aedc-25fa98363e99",
   "metadata": {},
   "outputs": [
    {
     "name": "stderr",
     "output_type": "stream",
     "text": [
      "2025/05/12 16:36:21 WARNING mlflow.models.model: Model logged without a signature and input example. Please set `input_example` parameter when logging the model to auto infer the model signature.\n"
     ]
    },
    {
     "name": "stdout",
     "output_type": "stream",
     "text": [
      "✅ Modelo registrado en MLflow\n"
     ]
    }
   ],
   "source": [
    "mlflow.set_experiment(\"REGRESION\")\n",
    "\n",
    "with mlflow.start_run():\n",
    "    mlflow.sklearn.log_model(best_model, \"model\")\n",
    "    mlflow.log_params(best_model.get_params())\n",
    "    print(\"✅ Modelo registrado en MLflow\")"
   ]
  },
  {
   "cell_type": "code",
   "execution_count": null,
   "id": "eb9f3514-d9ca-42ac-ab6b-c5e2c4661375",
   "metadata": {},
   "outputs": [],
   "source": []
  }
 ],
 "metadata": {
  "kernelspec": {
   "display_name": "Python [conda env:base] *",
   "language": "python",
   "name": "conda-base-py"
  },
  "language_info": {
   "codemirror_mode": {
    "name": "ipython",
    "version": 3
   },
   "file_extension": ".py",
   "mimetype": "text/x-python",
   "name": "python",
   "nbconvert_exporter": "python",
   "pygments_lexer": "ipython3",
   "version": "3.12.7"
  }
 },
 "nbformat": 4,
 "nbformat_minor": 5
}
