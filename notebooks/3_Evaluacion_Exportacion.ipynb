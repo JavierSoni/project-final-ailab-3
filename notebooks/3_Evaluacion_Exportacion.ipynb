{
 "cells": [
  {
   "cell_type": "code",
   "execution_count": 68,
   "id": "cc574035-b0c6-4b3c-9170-64b19e33c75d",
   "metadata": {},
   "outputs": [],
   "source": [
    "# 1. Importar bibliotecas necesarias\n",
    "import pandas as pd\n",
    "import joblib\n",
    "import mlflow\n",
    "import mlflow.sklearn\n",
    "from sklearn.model_selection import train_test_split\n",
    "from sklearn.preprocessing import StandardScaler\n",
    "from sklearn.ensemble import ExtraTreesRegressor\n",
    "from sklearn.metrics import mean_squared_error, mean_absolute_error, confusion_matrix\n",
    "import numpy as np\n"
   ]
  },
  {
   "cell_type": "code",
   "execution_count": 20,
   "id": "a7d26c1f-2cd7-4b1a-bc83-7e202d2cec1f",
   "metadata": {},
   "outputs": [],
   "source": [
    "# 2. Cargar los datos\n",
    "X = pd.read_csv('../data/X_selected.csv')\n",
    "y = pd.read_csv('../data/y.csv').values.ravel()"
   ]
  },
  {
   "cell_type": "code",
   "execution_count": 28,
   "id": "c7bfaeff-70ea-47bf-9aad-386bec7e1151",
   "metadata": {},
   "outputs": [],
   "source": [
    "# 3. Dividir en conjuntos de entrenamiento y prueba\n",
    "X_train, X_test, y_train, y_test = train_test_split(X, y, test_size=0.2, random_state=42)\n",
    "\n",
    "# 4. Escalar las características\n",
    "scaler = StandardScaler()\n",
    "X_train_scaled = scaler.fit_transform(X_train)\n",
    "X_test_scaled = scaler.transform(X_test)\n"
   ]
  },
  {
   "cell_type": "code",
   "execution_count": 60,
   "id": "d9384ebc-22d8-4ac7-8426-563a5f4ad59f",
   "metadata": {},
   "outputs": [
    {
     "data": {
      "text/plain": [
       "array([5.27, 5.13, 5.45, 5.16, 6.  , 5.  , 5.  , 4.95, 6.12, 5.86, 7.  ,\n",
       "       5.27, 6.02, 5.18, 5.23, 6.45, 5.12, 5.85, 6.69, 5.  , 5.  , 6.  ,\n",
       "       5.31, 5.75, 5.46, 6.  , 6.5 , 5.56, 5.6 , 6.  , 5.4 , 5.82, 6.  ,\n",
       "       5.86, 6.  , 4.96, 6.35, 5.95, 5.34, 6.  , 5.17, 5.11, 6.25, 5.15,\n",
       "       5.16, 5.51, 6.74, 5.56, 5.  , 5.4 , 5.14, 5.39, 5.44, 7.04, 5.2 ,\n",
       "       6.  , 6.  , 5.62, 5.18, 5.  , 5.57, 5.72, 5.57, 5.29, 6.57, 5.53,\n",
       "       6.78, 5.57, 6.54, 5.66, 6.3 , 5.11, 5.82, 5.47, 6.  , 5.  , 6.51,\n",
       "       5.  , 5.99, 6.93, 5.  , 6.58, 5.  , 6.  , 5.53, 6.33, 5.  , 6.  ,\n",
       "       6.21, 5.31, 6.54, 5.79, 5.  , 5.  , 5.06, 5.7 , 5.  , 5.94, 5.  ,\n",
       "       5.27, 5.08, 5.08, 5.64, 7.  , 5.48, 7.  , 5.83, 5.67, 5.19, 4.96,\n",
       "       6.87, 5.04, 6.55, 5.08, 5.38, 5.99, 5.3 , 5.04, 5.07, 5.47, 5.85,\n",
       "       5.82, 5.26, 5.44, 5.73, 5.22, 6.62, 5.56, 5.  , 5.44, 5.82, 5.46,\n",
       "       5.09, 6.91, 5.4 , 5.09, 5.04, 5.49, 5.2 , 5.78, 7.  , 6.44, 6.29,\n",
       "       5.65, 5.15, 5.  , 5.56, 6.  , 6.  , 5.29, 6.  , 6.26, 5.61, 5.  ,\n",
       "       5.82, 5.  , 5.45, 6.49, 5.34, 5.93, 5.84, 5.59, 6.29, 5.07, 5.34,\n",
       "       5.76, 6.  , 4.97, 4.4 , 5.27, 5.08, 5.  , 5.74, 5.38, 7.  , 5.79,\n",
       "       6.2 , 5.12, 5.54, 5.04, 5.12, 5.7 , 6.12, 6.08, 5.02, 6.52, 5.77,\n",
       "       5.65, 6.66, 5.38, 5.48, 6.2 , 5.4 , 6.49, 5.71, 5.  , 4.7 , 6.  ,\n",
       "       5.3 , 7.  , 5.  , 5.38, 5.38, 5.07, 7.05, 5.23, 4.97, 5.37, 5.29,\n",
       "       6.28, 7.77, 5.01, 5.  , 7.11, 6.17, 5.27, 6.  , 5.11, 5.81, 5.65,\n",
       "       5.18, 6.  , 5.84, 6.37, 5.25, 5.1 , 5.17, 6.47, 5.71, 5.34, 5.51,\n",
       "       4.93, 6.41, 5.62, 5.  , 7.  , 5.  , 5.53, 6.  , 5.2 , 5.03, 4.87,\n",
       "       5.27, 7.  , 5.43, 7.  , 5.36, 5.78, 6.47, 5.  , 5.61, 5.65, 5.13,\n",
       "       5.51, 4.58, 5.2 , 5.45, 5.71, 5.77, 6.57, 6.84, 5.68, 5.12, 6.26,\n",
       "       5.61, 6.26, 5.6 , 5.3 , 6.  , 6.  , 4.95, 5.85, 5.22, 6.  , 5.52,\n",
       "       5.71, 5.58, 7.33, 6.51, 6.  , 6.95, 5.26, 5.24, 5.53, 5.64, 7.  ,\n",
       "       5.01, 6.44, 5.22, 6.  , 5.68, 6.95, 4.64, 5.3 , 5.2 , 6.18, 5.3 ,\n",
       "       6.88, 6.56, 6.09, 5.  , 5.  , 6.29, 5.04, 6.  , 5.59, 6.11, 5.75,\n",
       "       5.44, 7.  , 5.37, 5.39, 5.96, 5.54, 5.86, 6.  , 5.  , 5.  , 6.01,\n",
       "       5.06])"
      ]
     },
     "execution_count": 60,
     "metadata": {},
     "output_type": "execute_result"
    }
   ],
   "source": [
    "# 5. Entrenar el modelo seleccionado (por ejemplo, RandomForestRegressor)\n",
    "model = ExtraTreesRegressor(random_state=42)\n",
    "model.fit(X_train_scaled, y_train)\n",
    "\n",
    "# 6. Evaluar el modelo\n",
    "y_pred = model.predict(X_test_scaled)\n",
    "mse = mean_squared_error(y_test, y_pred)\n",
    "mae = mean_absolute_error(y_test, y_pred)\n",
    "y_pred"
   ]
  },
  {
   "cell_type": "code",
   "execution_count": 87,
   "id": "17cdff67-8a37-4caa-92cf-b0128963cc09",
   "metadata": {},
   "outputs": [
    {
     "data": {
      "text/plain": [
       "array([6, 5, 6, 5, 6, 5, 5, 5, 5, 6, 7, 3, 5, 5, 6, 7, 5, 7, 8, 5, 5, 6,\n",
       "       5, 6, 6, 6, 7, 6, 5, 6, 5, 5, 6, 5, 6, 5, 7, 5, 4, 6, 5, 5, 7, 5,\n",
       "       5, 6, 7, 6, 5, 6, 5, 5, 5, 7, 6, 6, 6, 5, 5, 5, 5, 7, 5, 6, 6, 5,\n",
       "       6, 5, 6, 5, 6, 4, 6, 6, 6, 5, 8, 5, 6, 6, 5, 6, 5, 6, 6, 7, 5, 6,\n",
       "       7, 4, 7, 6, 5, 5, 5, 6, 5, 6, 5, 6, 5, 5, 5, 7, 6, 7, 6, 5, 6, 5,\n",
       "       8, 5, 6, 5, 6, 7, 6, 6, 5, 6, 6, 6, 6, 6, 6, 6, 7, 6, 5, 5, 6, 5,\n",
       "       5, 5, 6, 5, 5, 5, 5, 6, 7, 6, 8, 5, 5, 5, 6, 6, 6, 5, 6, 7, 6, 5,\n",
       "       6, 5, 5, 6, 6, 6, 7, 5, 7, 5, 5, 5, 6, 6, 5, 5, 6, 5, 7, 6, 7, 6,\n",
       "       6, 5, 5, 6, 4, 6, 5, 7, 5, 5, 4, 5, 7, 6, 5, 6, 6, 7, 6, 5, 5, 6,\n",
       "       5, 7, 5, 6, 6, 5, 7, 5, 5, 5, 6, 7, 7, 5, 5, 6, 6, 7, 6, 5, 6, 6,\n",
       "       6, 6, 6, 7, 4, 5, 5, 7, 5, 5, 5, 5, 6, 6, 5, 7, 5, 6, 6, 6, 5, 4,\n",
       "       6, 7, 6, 7, 5, 6, 6, 5, 5, 6, 5, 6, 4, 5, 6, 6, 5, 6, 6, 5, 5, 6,\n",
       "       7, 7, 6, 5, 6, 6, 5, 6, 5, 6, 5, 5, 5, 6, 6, 6, 7, 5, 5, 6, 5, 7,\n",
       "       5, 6, 4, 6, 6, 8, 6, 5, 5, 6, 5, 7, 6, 6, 5, 5, 7, 6, 6, 5, 6, 6,\n",
       "       5, 7, 6, 6, 6, 6, 5, 6, 5, 5, 6, 4], dtype=int64)"
      ]
     },
     "execution_count": 87,
     "metadata": {},
     "output_type": "execute_result"
    }
   ],
   "source": [
    "y_test"
   ]
  },
  {
   "cell_type": "code",
   "execution_count": 12,
   "id": "d6ccd5b6-2a9f-4be8-8680-165f89bf57cd",
   "metadata": {},
   "outputs": [
    {
     "name": "stdout",
     "output_type": "stream",
     "text": [
      "✅ Modelo guardado como 'best_model.pkl'\n"
     ]
    }
   ],
   "source": [
    "# Guardar el modelo localmente\n",
    "joblib.dump(model, \"../artifacts/best_model.pkl\")\n",
    "print(\"✅ Modelo guardado como 'best_model.pkl'\")"
   ]
  },
  {
   "cell_type": "code",
   "execution_count": 80,
   "id": "b38cd22e-44fb-49e4-99ef-26cf2502e4ad",
   "metadata": {},
   "outputs": [
    {
     "name": "stderr",
     "output_type": "stream",
     "text": [
      "2025/05/12 19:05:02 WARNING mlflow.models.model: Model logged without a signature and input example. Please set `input_example` parameter when logging the model to auto infer the model signature.\n"
     ]
    },
    {
     "name": "stdout",
     "output_type": "stream",
     "text": [
      "✅ Modelo y artefactos registrados en MLflow\n"
     ]
    }
   ],
   "source": [
    "mlflow.set_experiment(\"powerconsumption\")\n",
    "with mlflow.start_run(run_name=\"Final Evaluation\"):\n",
    "    mlflow.sklearn.log_model(model, \"final_model\")\n",
    "    mlflow.log_metric(\"mse\", mse)\n",
    "    mlflow.log_metric(\"mae\", mae)\n",
    "    print(\"✅ Modelo y artefactos registrados en MLflow\")\n",
    "    "
   ]
  },
  {
   "cell_type": "code",
   "execution_count": 83,
   "id": "eea0eca5-9a97-4e50-8324-c3819440687b",
   "metadata": {},
   "outputs": [
    {
     "name": "stdout",
     "output_type": "stream",
     "text": [
      "0.4125\n"
     ]
    }
   ],
   "source": [
    "print(mae)"
   ]
  },
  {
   "cell_type": "code",
   "execution_count": 85,
   "id": "69bd8e39-ab2a-4ed6-987f-9833496bfee5",
   "metadata": {},
   "outputs": [
    {
     "name": "stdout",
     "output_type": "stream",
     "text": [
      "0.33769937499999997\n"
     ]
    }
   ],
   "source": [
    "print(mse)"
   ]
  },
  {
   "cell_type": "code",
   "execution_count": null,
   "id": "1bec915c-6659-41b3-8a94-837f93567f77",
   "metadata": {},
   "outputs": [],
   "source": []
  }
 ],
 "metadata": {
  "kernelspec": {
   "display_name": "Python [conda env:base] *",
   "language": "python",
   "name": "conda-base-py"
  },
  "language_info": {
   "codemirror_mode": {
    "name": "ipython",
    "version": 3
   },
   "file_extension": ".py",
   "mimetype": "text/x-python",
   "name": "python",
   "nbconvert_exporter": "python",
   "pygments_lexer": "ipython3",
   "version": "3.12.7"
  }
 },
 "nbformat": 4,
 "nbformat_minor": 5
}
